{
 "cells": [
  {
   "cell_type": "code",
   "execution_count": null,
   "metadata": {},
   "outputs": [],
   "source": [
    "# Creamos una lista de tuplas para almacenar las temperaturas mínimas y máximas de los últimos 5 días\n",
    "temperaturas = []\n",
    "\n",
    "# Pedimos al usuario que introduzca la información de los últimos 5 días\n",
    "for i in range(5):\n",
    "    temp_min = float(input(f\"Introduce la temperatura mínima del día {i+1}: \"))\n",
    "    temp_max = float(input(f\"Introduce la temperatura máxima del día {i+1}: \"))\n",
    "    temperaturas.append((temp_min, temp_max))\n",
    "\n",
    "# Calculamos la temperatura media de cada día\n",
    "temperaturas_medias = [(temp_min + temp_max) / 2 for temp_min, temp_max in temperaturas]\n",
    "\n",
    "# Encontramos la temperatura mínima y los días correspondientes\n",
    "temperatura_minima = min(temperaturas_medias)\n",
    "dias_con_menor_temperatura = [i+1 for i, temp_media in enumerate(temperaturas_medias) if temp_media == temperatura_minima]\n",
    "\n",
    "# Mostramos la temperatura media de cada día\n",
    "print(\"\\nTemperatura media de cada día:\")\n",
    "for i, temp_media in enumerate(temperaturas_medias):\n",
    "    print(f\"Día {i+1}: {temp_media}\")\n",
    "\n",
    "# Mostramos los días con menor temperatura\n",
    "print(\"\\nDías con menor temperatura:\")\n",
    "for dia in dias_con_menor_temperatura:\n",
    "    print(f\"Día {dia}\")\n",
    "\n",
    "# Pedimos al usuario que introduzca una temperatura adicional\n",
    "temp_adicional = float(input(\"\\nIntroduce una temperatura adicional para buscar días con la misma temperatura máxima: \"))\n",
    "\n",
    "# Encontramos los días cuya temperatura máxima coincide con la temperatura adicional\n",
    "dias_con_temperatura_adicional = [i+1 for i, (temp_min, temp_max) in enumerate(temperaturas) if temp_max == temp_adicional]\n",
    "\n",
    "# Mostramos los días con la temperatura máxima igual a la temperatura adicional\n",
    "if dias_con_temperatura_adicional:\n",
    "    print(f\"\\nLos días cuya temperatura máxima coincide con {temp_adicional} son:\")\n",
    "    for dia in dias_con_temperatura_adicional:\n",
    "        print(f\"Día {dia}\")\n",
    "else:\n",
    "    print(f\"\\nNo existe ningún día con temperatura máxima igual a {temp_adicional}.\")\n"
   ]
  }
 ],
 "metadata": {
  "language_info": {
   "name": "python"
  }
 },
 "nbformat": 4,
 "nbformat_minor": 2
}
