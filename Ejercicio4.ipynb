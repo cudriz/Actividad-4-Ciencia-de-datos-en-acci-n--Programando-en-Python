{
 "cells": [
  {
   "cell_type": "code",
   "execution_count": 1,
   "metadata": {},
   "outputs": [
    {
     "name": "stdout",
     "output_type": "stream",
     "text": [
      "El número a adivinar es mayor.\n",
      "El número a adivinar es mayor.\n",
      "El número a adivinar es menor.\n",
      "El número a adivinar es mayor.\n",
      "El número a adivinar es mayor.\n",
      "El número a adivinar es menor.\n",
      "El número a adivinar es mayor.\n",
      "¡Felicidades! Has adivinado el número en el intento 8!\n"
     ]
    }
   ],
   "source": [
    "import random\n",
    "\n",
    "# Generar un número aleatorio entre 1 y 100\n",
    "numero_secreto = random.randint(1, 100)\n",
    "\n",
    "# Contador de intentos\n",
    "intentos = 0\n",
    "\n",
    "# Bucle para adivinar el número\n",
    "while intentos < 10:\n",
    "    intento = int(input(\"Intenta adivinar el número (entre 1 y 100): \"))\n",
    "    intentos += 1\n",
    "    \n",
    "    if intento == numero_secreto:\n",
    "        print(f\"¡Felicidades! Has adivinado el número en el intento {intentos}!\")\n",
    "        break\n",
    "    elif intento < numero_secreto:\n",
    "        print(\"El número a adivinar es mayor.\")\n",
    "    else:\n",
    "        print(\"El número a adivinar es menor.\")\n",
    "else:\n",
    "    print(\"Lo siento, has agotado tus 10 intentos. El número secreto era:\", numero_secreto)\n"
   ]
  }
 ],
 "metadata": {
  "kernelspec": {
   "display_name": "Python 3",
   "language": "python",
   "name": "python3"
  },
  "language_info": {
   "codemirror_mode": {
    "name": "ipython",
    "version": 3
   },
   "file_extension": ".py",
   "mimetype": "text/x-python",
   "name": "python",
   "nbconvert_exporter": "python",
   "pygments_lexer": "ipython3",
   "version": "3.12.3"
  }
 },
 "nbformat": 4,
 "nbformat_minor": 2
}
