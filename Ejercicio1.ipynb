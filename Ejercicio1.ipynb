{
 "cells": [
  {
   "cell_type": "code",
   "execution_count": 2,
   "metadata": {},
   "outputs": [
    {
     "name": "stdout",
     "output_type": "stream",
     "text": [
      "Su lista de numeros es : [234, 2342, 3535]\n"
     ]
    }
   ],
   "source": [
    "\n",
    "lista = []\n",
    "\n",
    "while True:\n",
    "    num = int(input(\"Introduce un número (para cortar la lista ingresa un numero < 0): \"))\n",
    "    if num < 0:\n",
    "        break\n",
    "    lista.append(num)\n",
    "\n",
    "print(\"Su lista de numeros es :\", lista)"
   ]
  }
 ],
 "metadata": {
  "kernelspec": {
   "display_name": "Python 3",
   "language": "python",
   "name": "python3"
  },
  "language_info": {
   "codemirror_mode": {
    "name": "ipython",
    "version": 3
   },
   "file_extension": ".py",
   "mimetype": "text/x-python",
   "name": "python",
   "nbconvert_exporter": "python",
   "pygments_lexer": "ipython3",
   "version": "3.12.3"
  }
 },
 "nbformat": 4,
 "nbformat_minor": 2
}
