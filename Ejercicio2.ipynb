{
 "cells": [
  {
   "cell_type": "code",
   "execution_count": 3,
   "metadata": {},
   "outputs": [
    {
     "name": "stdout",
     "output_type": "stream",
     "text": [
      "Introduce valores para lista1:\n",
      "\n",
      "Introduce valores para lista2:\n",
      "La lista 3 seria: [2, 4, 6, 8, 10]\n"
     ]
    }
   ],
   "source": [
    "lista1 = []\n",
    "lista2 = []\n",
    "lista3 = []\n",
    "\n",
    "print(\"Introduce valores para lista1:\")\n",
    "for i in range(5):\n",
    "    num = int(input(\"Introduce un número entero: \"))\n",
    "    lista1.append(num)\n",
    "\n",
    "print(\"\\nIntroduce valores para lista2:\")\n",
    "for i in range(5):\n",
    "    num = int(input(\"Introduce un número entero: \"))\n",
    "    lista2.append(num)\n",
    "\n",
    "for i in range(5):\n",
    "    suma = lista1[i] + lista2[i]\n",
    "    lista3.append(suma)\n",
    "\n",
    "print( \"La lista 3 seria:\",lista3)"
   ]
  }
 ],
 "metadata": {
  "kernelspec": {
   "display_name": "Python 3",
   "language": "python",
   "name": "python3"
  },
  "language_info": {
   "codemirror_mode": {
    "name": "ipython",
    "version": 3
   },
   "file_extension": ".py",
   "mimetype": "text/x-python",
   "name": "python",
   "nbconvert_exporter": "python",
   "pygments_lexer": "ipython3",
   "version": "3.12.3"
  }
 },
 "nbformat": 4,
 "nbformat_minor": 2
}
